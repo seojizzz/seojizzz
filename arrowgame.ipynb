{
  "cells": [
    {
      "cell_type": "markdown",
      "metadata": {
        "id": "view-in-github",
        "colab_type": "text"
      },
      "source": [
        "<a href=\"https://colab.research.google.com/github/seojizzz/seojizzz/blob/main/arrowgame.ipynb\" target=\"_parent\"><img src=\"https://colab.research.google.com/assets/colab-badge.svg\" alt=\"Open In Colab\"/></a>"
      ]
    },
    {
      "cell_type": "markdown",
      "source": [
        "# Changelog\n",
        "1.1 added Task 3: 2-orientation honeycomb\n",
        "1.2 added task 4: 6-orientation honeycomb\n",
        "\n",
        "Note to all players: It's best to run this with your own device while u can, Google Colab can't seem to run this properly"
      ],
      "metadata": {
        "id": "g9-KQihHm76x"
      }
    },
    {
      "cell_type": "markdown",
      "metadata": {
        "id": "gz46A1eZmozb"
      },
      "source": [
        "# Introduction\n",
        "\n",
        "This is a Jupyter which helps to visualise this practice task into a game.\n",
        "\n",
        "Do note that solutions for all 4 parts of the task exist.\n",
        "\n",
        "We first import the following modules to help visualise this system easily."
      ]
    },
    {
      "cell_type": "code",
      "execution_count": 1,
      "metadata": {
        "colab": {
          "base_uri": "https://localhost:8080/"
        },
        "id": "jY5A5UO1mozh",
        "outputId": "fef85224-9b2b-41a4-e849-82b845b77e3c"
      },
      "outputs": [
        {
          "output_type": "stream",
          "name": "stdout",
          "text": [
            "pygame 2.6.1 (SDL 2.28.4, Python 3.10.12)\n",
            "Hello from the pygame community. https://www.pygame.org/contribute.html\n"
          ]
        }
      ],
      "source": [
        "import pygame\n",
        "import sys\n",
        "import random\n",
        "import math"
      ]
    },
    {
      "cell_type": "markdown",
      "metadata": {
        "id": "tJfVNtKUmozk"
      },
      "source": [
        "# Task 1: Easy\n",
        "\n",
        "This task is the easiest part. Think of the whole purpose of the entire task as \"mathematically finding a solution to this function\"\n",
        "\n",
        "Note to all who encounter errors upon running: the author (Seojin) was too lazy to write an end code. If all arrows are facing the same direction, you win.\n",
        "\n",
        "Try using matrices to approach this and try to think of a general pattern used to solve this. Any approach works. Have fun!"
      ]
    },
    {
      "cell_type": "code",
      "execution_count": 2,
      "metadata": {
        "colab": {
          "base_uri": "https://localhost:8080/",
          "height": 211
        },
        "id": "50CXAz4Emozp",
        "outputId": "ceee65fc-f3b3-46f9-e48c-e08bd59de9d0"
      },
      "outputs": [
        {
          "output_type": "error",
          "ename": "KeyboardInterrupt",
          "evalue": "",
          "traceback": [
            "\u001b[0;31m---------------------------------------------------------------------------\u001b[0m",
            "\u001b[0;31mKeyboardInterrupt\u001b[0m                         Traceback (most recent call last)",
            "\u001b[0;32m<ipython-input-2-c723dc3788e8>\u001b[0m in \u001b[0;36m<cell line: 29>\u001b[0;34m()\u001b[0m\n\u001b[1;32m     35\u001b[0m             \u001b[0mrotate_tile\u001b[0m\u001b[0;34m(\u001b[0m\u001b[0my\u001b[0m \u001b[0;34m//\u001b[0m \u001b[0mTILE_SIZE\u001b[0m\u001b[0;34m,\u001b[0m \u001b[0mx\u001b[0m \u001b[0;34m//\u001b[0m \u001b[0mTILE_SIZE\u001b[0m\u001b[0;34m)\u001b[0m\u001b[0;34m\u001b[0m\u001b[0;34m\u001b[0m\u001b[0m\n\u001b[1;32m     36\u001b[0m     \u001b[0mdraw_grid\u001b[0m\u001b[0;34m(\u001b[0m\u001b[0;34m)\u001b[0m\u001b[0;34m\u001b[0m\u001b[0;34m\u001b[0m\u001b[0m\n\u001b[0;32m---> 37\u001b[0;31m     \u001b[0mpygame\u001b[0m\u001b[0;34m.\u001b[0m\u001b[0mdisplay\u001b[0m\u001b[0;34m.\u001b[0m\u001b[0mflip\u001b[0m\u001b[0;34m(\u001b[0m\u001b[0;34m)\u001b[0m\u001b[0;34m\u001b[0m\u001b[0;34m\u001b[0m\u001b[0m\n\u001b[0m\u001b[1;32m     38\u001b[0m \u001b[0mpygame\u001b[0m\u001b[0;34m.\u001b[0m\u001b[0mquit\u001b[0m\u001b[0;34m(\u001b[0m\u001b[0;34m)\u001b[0m\u001b[0;34m\u001b[0m\u001b[0;34m\u001b[0m\u001b[0m\n\u001b[1;32m     39\u001b[0m \u001b[0msys\u001b[0m\u001b[0;34m.\u001b[0m\u001b[0mexit\u001b[0m\u001b[0;34m(\u001b[0m\u001b[0;34m)\u001b[0m\u001b[0;34m\u001b[0m\u001b[0;34m\u001b[0m\u001b[0m\n",
            "\u001b[0;31mKeyboardInterrupt\u001b[0m: "
          ]
        }
      ],
      "source": [
        "pygame.init()\n",
        "GRID_SIZE = 3\n",
        "TILE_SIZE = 100\n",
        "WINDOW_SIZE = GRID_SIZE * TILE_SIZE\n",
        "COLORS = {\"background\": (255, 255, 255), \"grid\": (0, 0, 0), \"arrows\": (0, 0, 255)}\n",
        "DIRECTIONS = [\"north\", \"east\", \"south\", \"west\"]\n",
        "ARROW_SYMBOLS = {\"north\": \"↑\", \"east\": \"→\", \"south\": \"↓\", \"west\": \"←\"}\n",
        "grid = [[random.choice(DIRECTIONS) for _ in range(GRID_SIZE)] for _ in range(GRID_SIZE)]\n",
        "screen = pygame.display.set_mode((WINDOW_SIZE, WINDOW_SIZE))\n",
        "pygame.display.set_caption(\"Arrow Puzzle\")\n",
        "font = pygame.font.SysFont(\"Arial\", 40)\n",
        "def draw_grid():\n",
        "    screen.fill(COLORS[\"background\"])\n",
        "    for row in range(GRID_SIZE):\n",
        "        for col in range(GRID_SIZE):\n",
        "            rect = pygame.Rect(col * TILE_SIZE, row * TILE_SIZE, TILE_SIZE, TILE_SIZE)\n",
        "            pygame.draw.rect(screen, COLORS[\"grid\"], rect, 1)\n",
        "            arrow_text = font.render(ARROW_SYMBOLS[grid[row][col]], True, COLORS[\"arrows\"])\n",
        "            text_rect = arrow_text.get_rect(center=(col * TILE_SIZE + TILE_SIZE // 2, row * TILE_SIZE + TILE_SIZE // 2))\n",
        "            screen.blit(arrow_text, text_rect)\n",
        "def rotate_tile(row, col):\n",
        "    for dr, dc in [\n",
        "        (0, 0), (-1, 0), (1, 0), (0, -1), (0, 1), (-1, -1), (-1, 1), (1, -1), (1, 1)\n",
        "    ]:\n",
        "        nr, nc = row + dr, col + dc\n",
        "        if 0 <= nr < GRID_SIZE and 0 <= nc < GRID_SIZE:\n",
        "            grid[nr][nc] = DIRECTIONS[(DIRECTIONS.index(grid[nr][nc]) + 1) % len(DIRECTIONS)]\n",
        "running = True\n",
        "while running:\n",
        "    for event in pygame.event.get():\n",
        "        if event.type == pygame.QUIT:\n",
        "            running = False\n",
        "        if event.type == pygame.MOUSEBUTTONDOWN:\n",
        "            x, y = event.pos\n",
        "            rotate_tile(y // TILE_SIZE, x // TILE_SIZE)\n",
        "    draw_grid()\n",
        "    pygame.display.flip()\n",
        "pygame.quit()\n",
        "sys.exit()"
      ]
    },
    {
      "cell_type": "markdown",
      "metadata": {
        "id": "JEFsODrEmozr"
      },
      "source": [
        "# Task 2: Less Easy but still easy\n",
        "\n",
        "Similar to task 1, but wiht a 4x4 grid this time. Same rules apply."
      ]
    },
    {
      "cell_type": "code",
      "execution_count": null,
      "metadata": {
        "id": "dkspgFQdmozs"
      },
      "outputs": [],
      "source": [
        "pygame.init()\n",
        "GRID_SIZE = 4\n",
        "WINDOW_SIZE = GRID_SIZE * TILE_SIZE\n",
        "COLORS = {\"background\": (255, 255, 255), \"grid\": (0, 0, 0), \"arrows\": (0, 0, 255)}\n",
        "DIRECTIONS = [\"north\", \"east\", \"south\", \"west\"]\n",
        "ARROW_SYMBOLS = {\"north\": \"↑\", \"east\": \"→\", \"south\": \"↓\", \"west\": \"←\"}\n",
        "grid = [[random.choice(DIRECTIONS) for _ in range(GRID_SIZE)] for _ in range(GRID_SIZE)]\n",
        "screen = pygame.display.set_mode((WINDOW_SIZE, WINDOW_SIZE))\n",
        "pygame.display.set_caption(\"Arrow Puzzle\")\n",
        "font = pygame.font.SysFont(\"Arial\", 40)\n",
        "running = True\n",
        "while running:\n",
        "    for event in pygame.event.get():\n",
        "        if event.type == pygame.QUIT:\n",
        "            running = False\n",
        "        if event.type == pygame.MOUSEBUTTONDOWN:\n",
        "            x, y = event.pos\n",
        "            rotate_tile(y // TILE_SIZE, x // TILE_SIZE)\n",
        "    draw_grid()\n",
        "    pygame.display.flip()\n",
        "pygame.quit()\n",
        "sys.exit()"
      ]
    },
    {
      "cell_type": "markdown",
      "metadata": {
        "id": "eMiX4HfEmozt"
      },
      "source": [
        "# Task 3\n",
        "\n",
        "This is where the task gets harder. You are given a honeycomb with only 2 possible orientations. Good luck.\n",
        "This time I want to see people fail this problem and try different approaches to this. If you are able to visualise this in special types of matrices. Good for you.\n",
        "\n",
        "Do note that solutions exist, and Seojin was able to solve it once in under 1 minute.\n",
        "However, it does seem like some randomised boards do not have solutions. Can you prove this?"
      ]
    },
    {
      "cell_type": "code",
      "execution_count": null,
      "metadata": {
        "id": "N-fzYGummozv"
      },
      "outputs": [],
      "source": [
        "pygame.init()\n",
        "\n",
        "TILE_RADIUS = 40\n",
        "HEX_HEIGHT = math.sqrt(3) * TILE_RADIUS\n",
        "WINDOW_SIZE = 800\n",
        "SIDE_LENGTH = 4  # Side length of the hexagonal honeycomb (number of tiles along one side)\n",
        "COLORS = {\n",
        "    \"background\": (255, 255, 255),\n",
        "    \"grid\": (0, 0, 0),\n",
        "    \"directions\": (0, 0, 0),  # Black text\n",
        "    \"up\": (119, 221, 119),  # Pastel green for 'up'\n",
        "    \"down\": (255, 105, 97)  # Pastel red for 'down'\n",
        "}\n",
        "\n",
        "# Directions (0 = up, 1 = down)\n",
        "DIRECTIONS = [0, 1]\n",
        "DIRECTION_SYMBOLS = {0: \"↑\", 1: \"↓\"}\n",
        "\n",
        "# Generate the hexagonal honeycomb grid\n",
        "grid = {}\n",
        "for q in range(-SIDE_LENGTH + 1, SIDE_LENGTH):\n",
        "    for r in range(-SIDE_LENGTH + 1, SIDE_LENGTH):\n",
        "        if abs(q + r) < SIDE_LENGTH:\n",
        "            grid[(q, r)] = random.choice(DIRECTIONS)\n",
        "\n",
        "def hex_to_pixel(q, r):\n",
        "    \"\"\"Convert hex coordinates to pixel coordinates.\"\"\"\n",
        "    x = TILE_RADIUS * 3 / 2 * q + WINDOW_SIZE // 2\n",
        "    y = HEX_HEIGHT * (r + q / 2) + WINDOW_SIZE // 2\n",
        "    return x, y\n",
        "\n",
        "def pixel_to_hex(x, y):\n",
        "    \"\"\"Convert pixel coordinates to hex coordinates.\"\"\"\n",
        "    x -= WINDOW_SIZE // 2\n",
        "    y -= WINDOW_SIZE // 2\n",
        "    q = (2/3 * x) / TILE_RADIUS\n",
        "    r = (-1/3 * x + math.sqrt(3)/3 * y) / TILE_RADIUS\n",
        "    return hex_round(q, r)\n",
        "\n",
        "def hex_round(q, r):\n",
        "    \"\"\"Round fractional hex coordinates to the nearest hex.\"\"\"\n",
        "    s = -q - r\n",
        "    q_round = round(q)\n",
        "    r_round = round(r)\n",
        "    s_round = round(s)\n",
        "    q_diff = abs(q_round - q)\n",
        "    r_diff = abs(r_round - r)\n",
        "    s_diff = abs(s_round - s)\n",
        "    if q_diff > r_diff and q_diff > s_diff:\n",
        "        q_round = -r_round - s_round\n",
        "    elif r_diff > s_diff:\n",
        "        r_round = -q_round - s_round\n",
        "    return q_round, r_round\n",
        "\n",
        "def draw_hex(x, y, radius, color, text=None):\n",
        "    \"\"\"Draw a single hexagon.\"\"\"\n",
        "    points = [\n",
        "        (x + radius * math.cos(math.radians(angle)), y + radius * math.sin(math.radians(angle)))\n",
        "        for angle in range(0, 360, 60)\n",
        "    ]\n",
        "    pygame.draw.polygon(screen, color, points)\n",
        "    pygame.draw.polygon(screen, COLORS[\"grid\"], points, 1)\n",
        "\n",
        "    if text is not None:\n",
        "        text_surface = font.render(text, True, COLORS[\"directions\"])\n",
        "        text_rect = text_surface.get_rect(center=(x, y))\n",
        "        screen.blit(text_surface, text_rect)\n",
        "\n",
        "def draw_grid():\n",
        "    \"\"\"Draw the entire grid.\"\"\"\n",
        "    screen.fill(COLORS[\"background\"])\n",
        "    for (q, r), direction in grid.items():\n",
        "        x, y = hex_to_pixel(q, r)\n",
        "        tile_color = COLORS[\"up\"] if direction == 0 else COLORS[\"down\"]\n",
        "        draw_hex(x, y, TILE_RADIUS, tile_color, DIRECTION_SYMBOLS[direction])\n",
        "\n",
        "def rotate_tile(q, r):\n",
        "    \"\"\"Rotate the clicked tile and its neighbors.\"\"\"\n",
        "    directions = [(0, 0), (1, 0), (-1, 0), (0, 1), (0, -1), (1, -1), (-1, 1)]\n",
        "    for dq, dr in directions:\n",
        "        neighbor = (q + dq, r + dr)\n",
        "        if neighbor in grid:\n",
        "            grid[neighbor] = 1 - grid[neighbor]\n",
        "\n",
        "# Pygame setup\n",
        "screen = pygame.display.set_mode((WINDOW_SIZE, WINDOW_SIZE))\n",
        "pygame.display.set_caption(\"Hexagonal Honeycomb Puzzle\")\n",
        "font = pygame.font.SysFont(\"Arial\", 24)\n",
        "\n",
        "# Main loop\n",
        "while True:\n",
        "    for event in pygame.event.get():\n",
        "        if event.type == pygame.QUIT:\n",
        "            pygame.quit()\n",
        "            sys.exit()\n",
        "        if event.type == pygame.MOUSEBUTTONDOWN:\n",
        "            x, y = event.pos\n",
        "            q, r = pixel_to_hex(x, y)\n",
        "            if (q, r) in grid:\n",
        "                rotate_tile(q, r)\n",
        "\n",
        "    draw_grid()\n",
        "    pygame.display.flip()\n"
      ]
    },
    {
      "cell_type": "markdown",
      "metadata": {
        "id": "6UyQTpSemozx"
      },
      "source": [
        "Congrats on making it this far.\n",
        "Low and Behold.\n",
        "# Task 4.\n",
        "Try using a similar approach to task 3 (if applicable.)"
      ]
    },
    {
      "cell_type": "code",
      "execution_count": null,
      "metadata": {
        "id": "VXIIw2tHmoz0"
      },
      "outputs": [],
      "source": [
        "pygame.init()\n",
        "TILE_RADIUS = 40\n",
        "HEX_HEIGHT = math.sqrt(3) * TILE_RADIUS\n",
        "WINDOW_SIZE = 800\n",
        "SIDE_LENGTH = 4\n",
        "COLORS = {\n",
        "    \"background\": (255, 255, 255),\n",
        "    \"grid\": (0, 0, 0),\n",
        "    \"directions\": (0, 0, 0),\n",
        "    0: (255, 105, 97),\n",
        "    1: (255, 179, 71),\n",
        "    2: (253, 253, 150),\n",
        "    3: (119, 221, 119),\n",
        "    4: (174, 198, 207),\n",
        "    5: (203, 160, 214),\n",
        "}\n",
        "\n",
        "DIRECTIONS = [0, 1, 2, 3, 4, 5]\n",
        "\n",
        "grid = {}\n",
        "for q in range(-SIDE_LENGTH + 1, SIDE_LENGTH):\n",
        "    for r in range(-SIDE_LENGTH + 1, SIDE_LENGTH):\n",
        "        if abs(q + r) < SIDE_LENGTH:\n",
        "            grid[(q, r)] = random.choice(DIRECTIONS)\n",
        "\n",
        "def hex_to_pixel(q, r):\n",
        "    x = TILE_RADIUS * 3 / 2 * q + WINDOW_SIZE // 2\n",
        "    y = HEX_HEIGHT * (r + q / 2) + WINDOW_SIZE // 2\n",
        "    return x, y\n",
        "\n",
        "def pixel_to_hex(x, y):\n",
        "    x -= WINDOW_SIZE // 2\n",
        "    y -= WINDOW_SIZE // 2\n",
        "    q = (2/3 * x) / TILE_RADIUS\n",
        "    r = (-1/3 * x + math.sqrt(3)/3 * y) / TILE_RADIUS\n",
        "    return hex_round(q, r)\n",
        "\n",
        "def hex_round(q, r):\n",
        "    s = -q - r\n",
        "    q_round = round(q)\n",
        "    r_round = round(r)\n",
        "    s_round = round(s)\n",
        "    q_diff = abs(q_round - q)\n",
        "    r_diff = abs(r_round - r)\n",
        "    s_diff = abs(s_round - s)\n",
        "    if q_diff > r_diff and q_diff > s_diff:\n",
        "        q_round = -r_round - s_round\n",
        "    elif r_diff > s_diff:\n",
        "        r_round = -q_round - s_round\n",
        "    return q_round, r_round\n",
        "\n",
        "def draw_hex(x, y, radius, color, direction):\n",
        "    points = [\n",
        "        (x + radius * math.cos(math.radians(angle)), y + radius * math.sin(math.radians(angle)))\n",
        "        for angle in range(0, 360, 60)\n",
        "    ]\n",
        "    pygame.draw.polygon(screen, color, points)\n",
        "    pygame.draw.polygon(screen, COLORS[\"grid\"], points, 1)\n",
        "\n",
        "    arrow_size = TILE_RADIUS * 0.8\n",
        "    angles = {0: 0, 1: 60, 2: 120, 3: 180, 4: 240, 5: 300}\n",
        "    angle = angles[direction]\n",
        "\n",
        "    tip_x = x + arrow_size * math.cos(math.radians(angle))\n",
        "    tip_y = y + arrow_size * math.sin(math.radians(angle))\n",
        "\n",
        "    left_angle = angle - 30\n",
        "    right_angle = angle + 30\n",
        "\n",
        "    left_x = x + (arrow_size / 2) * math.cos(math.radians(left_angle))\n",
        "    left_y = y + (arrow_size / 2) * math.sin(math.radians(left_angle))\n",
        "    right_x = x + (arrow_size / 2) * math.cos(math.radians(right_angle))\n",
        "    right_y = y + (arrow_size / 2) * math.sin(math.radians(right_angle))\n",
        "\n",
        "    arrow_points = [(tip_x, tip_y), (left_x, left_y), (right_x, right_y)]\n",
        "    pygame.draw.polygon(screen, COLORS[\"directions\"], arrow_points)\n",
        "\n",
        "def draw_grid():\n",
        "    screen.fill(COLORS[\"background\"])\n",
        "    for (q, r), direction in grid.items():\n",
        "        x, y = hex_to_pixel(q, r)\n",
        "        tile_color = COLORS[direction]\n",
        "        draw_hex(x, y, TILE_RADIUS, tile_color, direction)\n",
        "\n",
        "def rotate_tile(q, r):\n",
        "    directions = [(0, 0), (1, 0), (-1, 0), (0, 1), (0, -1), (1, -1), (-1, 1)]\n",
        "    for dq, dr in directions:\n",
        "        neighbor = (q + dq, r + dr)\n",
        "        if neighbor in grid:\n",
        "            grid[neighbor] = (grid[neighbor] + 1) % 6\n",
        "\n",
        "screen = pygame.display.set_mode((WINDOW_SIZE, WINDOW_SIZE))\n",
        "pygame.display.set_caption(\"Hexagonal Honeycomb Puzzle\")\n",
        "font = pygame.font.SysFont(\"Arial\", 24)\n",
        "\n",
        "while True:\n",
        "    for event in pygame.event.get():\n",
        "        if event.type == pygame.QUIT:\n",
        "            pygame.quit()\n",
        "            sys.exit()\n",
        "        if event.type == pygame.MOUSEBUTTONDOWN:\n",
        "            x, y = event.pos\n",
        "            q, r = pixel_to_hex(x, y)\n",
        "            if (q, r) in grid:\n",
        "                rotate_tile(q, r)\n",
        "\n",
        "    draw_grid()\n",
        "    pygame.display.flip()\n"
      ]
    }
  ],
  "metadata": {
    "kernelspec": {
      "display_name": "Python 3",
      "language": "python",
      "name": "python3"
    },
    "language_info": {
      "codemirror_mode": {
        "name": "ipython",
        "version": 3
      },
      "file_extension": ".py",
      "mimetype": "text/x-python",
      "name": "python",
      "nbconvert_exporter": "python",
      "pygments_lexer": "ipython3",
      "version": "3.13.1"
    },
    "colab": {
      "provenance": [],
      "include_colab_link": true
    }
  },
  "nbformat": 4,
  "nbformat_minor": 0
}